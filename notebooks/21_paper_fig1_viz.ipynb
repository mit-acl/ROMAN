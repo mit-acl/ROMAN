{
 "cells": [
  {
   "cell_type": "code",
   "execution_count": 54,
   "metadata": {},
   "outputs": [],
   "source": [
    "import argparse\n",
    "import numpy as np\n",
    "from scipy.spatial.transform import Rotation as Rot\n",
    "import pickle\n",
    "import matplotlib.pyplot as plt\n",
    "import os\n",
    "from tqdm import tqdm\n",
    "from typing import List\n",
    "\n",
    "import open3d as o3d\n",
    "\n",
    "# from robot_utils.robot_data.pose_data import PoseData\n",
    "# from robot_utils.transform import transform_2_xytheta\n",
    "# from robot_utils.geometry import circle_intersection\n",
    "\n",
    "# from segment_track.segment import Segment\n",
    "# from segment_track.tracker import Tracker\n",
    "\n",
    "from object_map_registration.object.ellipsoid import Ellipsoid\n",
    "from object_map_registration.object.object import Object\n",
    "from object_map_registration.object.pointcloud_object import PointCloudObject\n",
    "from object_map_registration.register.dist_feature_sim_reg import DistOnlyReg, DistVolReg, DistFeaturePCAReg\n",
    "from object_map_registration.register.dist_reg_with_pruning import DistRegWithPruning, GravityConstraintError\n",
    "from object_map_registration.register.object_registration import InsufficientAssociationsException\n",
    "from object_map_registration.utils import object_list_bounds\n",
    "# from open3d.web_visualizer import draw\n",
    "# from open3d import JVisualizer\n",
    "\n",
    "import open3d.visualization as vis\n",
    "\n",
    "from robot_utils.transform import T_FLURDF\n",
    "\n",
    "\n",
    "# %matplotlib widget\n",
    "# %matplotlib inline"
   ]
  },
  {
   "cell_type": "code",
   "execution_count": 55,
   "metadata": {},
   "outputs": [],
   "source": [
    "poses_1_file =  '/home/masonbp/results/west_point_2023/segment_tracking/rgbd5/1117_02.pkl'\n",
    "poses_2_file =  '/home/masonbp/results/west_point_2023/segment_tracking/rgbd5/1117_04.pkl'"
   ]
  },
  {
   "cell_type": "code",
   "execution_count": 56,
   "metadata": {},
   "outputs": [],
   "source": [
    "poses_1 = []\n",
    "trackers_1 = []\n",
    "with open(poses_1_file, 'rb') as f:\n",
    "    t, p = pickle.load(f)\n",
    "    poses_1.append(p)\n",
    "    trackers_1.append(t)"
   ]
  },
  {
   "cell_type": "code",
   "execution_count": 57,
   "metadata": {},
   "outputs": [],
   "source": [
    "poses_2 = []\n",
    "trackers_2 = []\n",
    "with open(poses_2_file, 'rb') as f:\n",
    "    t, p = pickle.load(f)\n",
    "    poses_2.append(p)\n",
    "    trackers_2.append(t)"
   ]
  },
  {
   "cell_type": "code",
   "execution_count": 58,
   "metadata": {},
   "outputs": [],
   "source": [
    "# print(submaps_0[8][0]['centroid'].squeeze())"
   ]
  },
  {
   "cell_type": "code",
   "execution_count": 59,
   "metadata": {},
   "outputs": [],
   "source": [
    "# len(poses_1[0])"
   ]
  },
  {
   "cell_type": "code",
   "execution_count": 60,
   "metadata": {},
   "outputs": [],
   "source": [
    "# for i, pose in enumerate(poses_1[0]):\n",
    "#     # print(submaps_0[8][0]['centroid'].squeeze())\n",
    "#     # print(pose[:-1,-1])\n",
    "#     # print(submaps_0[8][0]['centroid'].squeeze() - pose[:-1,-1])\n",
    "#     # print()\n",
    "#     if np.linalg.norm(submaps_0[8][0]['centroid'].squeeze() + pose[:-1,-1]) < 1e-3:\n",
    "#         print(pose[:-1,-1])\n",
    "#         print(i)\n",
    "#         break"
   ]
  },
  {
   "cell_type": "code",
   "execution_count": 61,
   "metadata": {},
   "outputs": [],
   "source": [
    "# print(submaps_1[28][0]['centroid'].squeeze())"
   ]
  },
  {
   "cell_type": "code",
   "execution_count": 62,
   "metadata": {},
   "outputs": [],
   "source": [
    "# for i, pose in enumerate(poses_2[0]):\n",
    "#     # print(submaps_0[8][0]['centroid'].squeeze())\n",
    "#     # print(pose[:-1,-1])\n",
    "#     # print(submaps_0[8][0]['centroid'].squeeze() - pose[:-1,-1])\n",
    "#     # print()\n",
    "#     if np.linalg.norm(submaps_1[28][0]['centroid'].squeeze() + pose[:-1,-1]) < 1e-3:\n",
    "#         print(pose[:-1,-1])\n",
    "#         print(i)\n",
    "#         break"
   ]
  },
  {
   "cell_type": "code",
   "execution_count": 63,
   "metadata": {},
   "outputs": [
    {
     "name": "stdout",
     "output_type": "stream",
     "text": [
      "Loaded 21 and 34 submaps.\n"
     ]
    },
    {
     "data": {
      "image/png": "[encoded data removed]",
      "text/plain": [
       "<Figure size 640x480 with 2 Axes>"
      ]
     },
     "metadata": {},
     "output_type": "display_data"
    }
   ],
   "source": [
    "# output_viz_file = '/home/yulun/code/segment_track/outputs/distfeatpca_output_viz.pkl'\n",
    "output_viz_file = '/home/masonbp/results/west_point_2023/segment_align/12_wp/02/extentvolgrav.viz.pkl'\n",
    "pkl_file = open(output_viz_file, 'rb')\n",
    "submaps_0, submaps_1, associated_objs_mat, robots_nearby_mat, T_ij_mat, T_ij_hat_mat = pickle.load(pkl_file)\n",
    "pkl_file.close()\n",
    "print(f'Loaded {len(submaps_0)} and {len(submaps_1)} submaps.')\n",
    "clipper_num_associations  =  np.zeros((len(submaps_0), len(submaps_1)))*np.nan\n",
    "\n",
    "# Find submaps where most associations occur.\n",
    "max_i = 0\n",
    "max_j = 0\n",
    "max_num = 0\n",
    "for i in range(len(submaps_0)):\n",
    "  for j in range(len(submaps_1)):\n",
    "    clipper_num_associations[i, j] =  len(associated_objs_mat[i][j])\n",
    "    # if clipper_num_associations[i, j] > 0.0:\n",
    "    #   print(i, j, clipper_num_associations[i, j])\n",
    "    if len(associated_objs_mat[i][j]) > max_num:\n",
    "      max_num = len(associated_objs_mat[i][j])\n",
    "      max_i = i\n",
    "      max_j = j\n",
    "\n",
    "plt.imshow(\n",
    "  clipper_num_associations, \n",
    "  vmin=0, \n",
    ")\n",
    "plt.colorbar(fraction=0.03, pad=0.04)\n",
    "plt.show()"
   ]
  },
  {
   "cell_type": "code",
   "execution_count": 64,
   "metadata": {},
   "outputs": [
    {
     "name": "stdout",
     "output_type": "stream",
     "text": [
      "Submap pair (8, 28) contains 65 and 56 objects.\n",
      "Clipper finds 8 associations.\n"
     ]
    }
   ],
   "source": [
    "# Same dir\n",
    "# idx_0 = max_i\n",
    "# idx_1 = max_j\n",
    "idx_0 = 8\n",
    "idx_1 = 28\n",
    "\n",
    "# Opposite dir\n",
    "\n",
    "\n",
    "association = associated_objs_mat[idx_0][idx_1]\n",
    "submap_0 = [PointCloudObject.from_pickle(data) for data in submaps_0[idx_0]]\n",
    "submap_1 = [PointCloudObject.from_pickle(data) for data in submaps_1[idx_1]]\n",
    "print(f'Submap pair ({idx_0}, {idx_1}) contains {len(submap_0)} and {len(submap_1)} objects.')\n",
    "print(f'Clipper finds {len(association)} associations.')\n"
   ]
  },
  {
   "cell_type": "code",
   "execution_count": 65,
   "metadata": {},
   "outputs": [],
   "source": [
    "# submaps_0[idx_0][7]"
   ]
  },
  {
   "cell_type": "code",
   "execution_count": 66,
   "metadata": {},
   "outputs": [],
   "source": [
    "# submaps_1[idx_1][35]"
   ]
  },
  {
   "cell_type": "code",
   "execution_count": 67,
   "metadata": {},
   "outputs": [],
   "source": [
    "# for i in range(len(submaps_0[idx_0])):\n",
    "#     if submaps_0[idx_0][i]['id'] in [3947, 4067, 4057, 4451, 4450]:\n",
    "#         print(i, submaps_0[idx_0][i]['id'])"
   ]
  },
  {
   "cell_type": "code",
   "execution_count": 68,
   "metadata": {},
   "outputs": [],
   "source": [
    "# for i in range(len(submaps_1[idx_1])):\n",
    "#     if submaps_1[idx_1][i]['id'] in [7565, 7567, 7528, 7395]:\n",
    "#         print(i, submaps_1[idx_1][i]['id'])"
   ]
  },
  {
   "cell_type": "code",
   "execution_count": 69,
   "metadata": {},
   "outputs": [
    {
     "name": "stdout",
     "output_type": "stream",
     "text": [
      "Add edge between 19 and 36.\n",
      "Add edge between 15 and 41.\n",
      "Add edge between 24 and 28.\n",
      "Add edge between 7 and 35.\n",
      "Add edge between 22 and 31.\n",
      "Add edge between 5 and 39.\n",
      "Add edge between 44 and 10.\n",
      "Add edge between 35 and 19.\n"
     ]
    }
   ],
   "source": [
    "# Prepare submaps for visualization\n",
    "ocd_list_0 = []\n",
    "ocd_list_1 = []\n",
    "edges = []\n",
    "red_color = np.asarray([1,0,0]).reshape((1,3))\n",
    "blue_color = np.asarray([0,0,1]).reshape((1,3))\n",
    "for seg in submap_0:\n",
    "  pcd = o3d.geometry.PointCloud()\n",
    "  pcd.points = o3d.utility.Vector3dVector(seg.get_points())\n",
    "  num_pts = seg.get_points().shape[0]\n",
    "  rand_color = np.random.uniform(0, 1) * red_color\n",
    "  rand_color = np.repeat(rand_color, num_pts, axis=0)\n",
    "  pcd.colors = o3d.utility.Vector3dVector(rand_color)\n",
    "  ocd_list_0.append(pcd)\n",
    "  # print(pcd.get_center())\n",
    "\n",
    "for seg in submap_1:\n",
    "  pcd = o3d.geometry.PointCloud()\n",
    "  pcd.points = o3d.utility.Vector3dVector(seg.get_points())\n",
    "  num_pts = seg.get_points().shape[0]\n",
    "  rand_color = np.random.uniform(0, 1) * blue_color\n",
    "  rand_color = np.repeat(rand_color, num_pts, axis=0)\n",
    "  pcd.colors = o3d.utility.Vector3dVector(rand_color)\n",
    "  pcd.translate(np.asarray([0,-30,0]))\n",
    "  ocd_list_1.append(pcd)\n",
    "\n",
    "for obj_idx_0, obj_idx_1 in association:\n",
    "  print(f'Add edge between {obj_idx_0} and {obj_idx_1}.')\n",
    "  points = [ocd_list_0[obj_idx_0].get_center(), ocd_list_1[obj_idx_1].get_center()]\n",
    "  line_set = o3d.geometry.LineSet(\n",
    "    points=o3d.utility.Vector3dVector(points),\n",
    "    lines=o3d.utility.Vector2iVector([[0,1]]),\n",
    "  )\n",
    "  line_set.colors = o3d.utility.Vector3dVector([[0,1,0]])\n",
    "  # line_set.scale = 5\n",
    "  # increase width\n",
    "  edges.append(line_set)\n",
    "\n",
    "# points = [ocd_list_0[3].get_center(), ocd_list_1[34].get_center()]\n",
    "# line_set = o3d.geometry.LineSet(\n",
    "#   points=o3d.utility.Vector3dVector(points),\n",
    "#   lines=o3d.utility.Vector2iVector([[0,1]]),\n",
    "# )\n",
    "# line_set.colors = o3d.utility.Vector3dVector([[0,1,0]])\n",
    "# edges.append(line_set)\n"
   ]
  },
  {
   "cell_type": "code",
   "execution_count": 70,
   "metadata": {},
   "outputs": [
    {
     "name": "stdout",
     "output_type": "stream",
     "text": [
      "[-19.65482305 -43.77853952  -3.09657025]\n"
     ]
    }
   ],
   "source": [
    "pose_prev = poses_1[0][1387]\n",
    "translation_prev = -pose_prev[:-1, -1]\n",
    "print(translation_prev)"
   ]
  },
  {
   "cell_type": "code",
   "execution_count": 71,
   "metadata": {},
   "outputs": [
    {
     "data": {
      "text/plain": [
       "3198"
      ]
     },
     "execution_count": 71,
     "metadata": {},
     "output_type": "execute_result"
    }
   ],
   "source": [
    "len(poses_1[0])"
   ]
  },
  {
   "cell_type": "code",
   "execution_count": 72,
   "metadata": {},
   "outputs": [],
   "source": [
    "# poses_0 = []\n",
    "edges1 = []\n",
    "for i in range(1000, 1600, 20):\n",
    "    pose_prev = poses_1[0][i]\n",
    "    translation_prev = pose_prev[:-1, -1] - poses_1[0][1387][:-1, -1]\n",
    "\n",
    "    pose_next = poses_1[0][i+1]\n",
    "    translation_next = pose_next[:-1, -1] - poses_1[0][1387][:-1, -1]\n",
    "\n",
    "    points = [translation_prev, translation_next]\n",
    "    line_set = o3d.geometry.LineSet(\n",
    "        points=o3d.utility.Vector3dVector(points),\n",
    "        lines=o3d.utility.Vector2iVector([[0,1]]),\n",
    "    )\n",
    "\n",
    "    pose_obj = o3d.geometry.TriangleMesh.create_coordinate_frame(size=1.0)\n",
    "    resulting_pose = poses_1[0][i]\n",
    "    pose_next = poses_1[0][i+1]\n",
    "    translation_next = pose_next[:-1, -1] - poses_1[0][1387][:-1, -1] + [0, -30, 0]\n",
    "    resulting_pose[:-1,-1] = translation_prev\n",
    "    resulting_pose = resulting_pose @ np.linalg.inv(T_FLURDF)\n",
    "    pose_obj.transform(resulting_pose)\n",
    "    edges1.append(pose_obj)\n",
    "\n",
    "    if i % 20 == 0:\n",
    "\n",
    "        vec_len = 1.0\n",
    "        mesh_arrow = o3d.geometry.TriangleMesh.create_arrow(\n",
    "            cone_height= 0.4 * vec_len, \n",
    "            cone_radius= 0.3 * vec_len, \n",
    "            cylinder_height= 0.8 * vec_len,\n",
    "            cylinder_radius=  0.1 * vec_len\n",
    "            )\n",
    "        mesh_arrow.paint_uniform_color([1,0,1])\n",
    "        mesh_arrow.compute_vertex_normals()\n",
    "        mesh_arrow.translate(translation_prev)\n",
    "        mesh_arrow.rotate(Rot.from_matrix(pose_prev[:3, :3]).as_matrix(), center=translation_prev)\n",
    "        mesh_arrow.paint_uniform_color([247/(247+143+7), 143/(247+143+7), 7/(247+143+7)])\n",
    "\n",
    "        # edges1.append(mesh_arrow)\n",
    "\n",
    "    \n",
    "    line_set.colors = o3d.utility.Vector3dVector([[247/(247+143+7), 143/(247+143+7), 7/(247+143+7)]])\n",
    "    # edges1.append(line_set)\n"
   ]
  },
  {
   "cell_type": "code",
   "execution_count": 73,
   "metadata": {},
   "outputs": [],
   "source": [
    "# poses_0 = []\n",
    "edges2 = []\n",
    "for i in range(3750, 4600, 20):\n",
    "    pose_obj = o3d.geometry.TriangleMesh.create_coordinate_frame(size=1.0)\n",
    "    resulting_pose = poses_2[0][i]\n",
    "\n",
    "    pose_prev = poses_2[0][i]\n",
    "    translation_prev = pose_prev[:-1, -1] - poses_2[0][4213][:-1, -1] + [0, -30, 0]\n",
    "\n",
    "    pose_next = poses_2[0][i+1]\n",
    "    translation_next = pose_next[:-1, -1] - poses_2[0][4213][:-1, -1] + [0, -30, 0]\n",
    "    resulting_pose[:-1,-1] = translation_prev\n",
    "    resulting_pose = resulting_pose @ np.linalg.inv(T_FLURDF)\n",
    "    pose_obj.transform(resulting_pose)\n",
    "    edges2.append(pose_obj)\n",
    "\n",
    "    points = [translation_prev, translation_next]\n",
    "    line_set = o3d.geometry.LineSet(\n",
    "        points=o3d.utility.Vector3dVector(points),\n",
    "        lines=o3d.utility.Vector2iVector([[0,1]]),\n",
    "    )\n",
    "    line_set.colors = o3d.utility.Vector3dVector([[7/(7+187+247), 187/(7+187+247), 247/(7+187+247)]])\n",
    "    # edges2.append(line_set)\n",
    "\n",
    "    # if i % 20 == 0:\n",
    "\n",
    "    #     vec_len = 1.0\n",
    "    #     mesh_arrow = o3d.geometry.TriangleMesh.create_arrow(\n",
    "    #         cone_height= 0.4 * vec_len, \n",
    "    #         cone_radius= 0.3 * vec_len, \n",
    "    #         cylinder_height= 0.8 * vec_len,\n",
    "    #         cylinder_radius=  0.1 * vec_len\n",
    "    #         )\n",
    "    #     mesh_arrow.paint_uniform_color([1,0,1])\n",
    "    #     mesh_arrow.compute_vertex_normals()\n",
    "    #     mesh_arrow.translate(translation_prev)\n",
    "    #     mesh_arrow.rotate(Rot.from_matrix(pose_prev[:3, :3]).as_matrix(), center=translation_prev)\n",
    "    #     mesh_arrow.paint_uniform_color([7/(7+187+247), 187/(7+187+247), 247/(7+187+247)])\n",
    "\n",
    "        # edges1.append(mesh_arrow)\n",
    "\n"
   ]
  },
  {
   "cell_type": "markdown",
   "metadata": {},
   "source": [
    "Add edge between 24 and 28.\n",
    "Add edge between 19 and 36.\n",
    "Add edge between 22 and 31.\n",
    "Add edge between 15 and 41.\n",
    "Add edge between 7 and 35.\n",
    "Add edge between 44 and 10.\n",
    "Add edge between 35 and 19."
   ]
  },
  {
   "cell_type": "code",
   "execution_count": 74,
   "metadata": {},
   "outputs": [],
   "source": [
    "# for d in o3d.visualization.rendering.__dir__():\n",
    "#     print(d)\n",
    "# mat = o3d.visualization.rendering.Material()\n",
    "# mat.shader = \"unlitLine\"\n",
    "# mat.line_width = 10  # note that this is scaled with respect to pixels,\n",
    "# vis.draw_geometries(ocd_list_0 + ocd_list_1 + edges + edges1 + edges2, material=mat)\n"
   ]
  },
  {
   "cell_type": "code",
   "execution_count": 75,
   "metadata": {},
   "outputs": [],
   "source": [
    "vis.draw_geometries(ocd_list_0 + ocd_list_1 + edges + edges1 + edges2)\n"
   ]
  },
  {
   "cell_type": "code",
   "execution_count": 76,
   "metadata": {},
   "outputs": [],
   "source": [
    "# vis = o3d.visualization.Visualizer()\n",
    "# vis.create_window()\n",
    "# for thing in ocd_list_0 + ocd_list_1 + edges + edges1 + edges2:\n",
    "#     vis.add_geometry(thing)\n",
    "# vis.get_render_option().line_width = 10000\n",
    "# vis.get_render_option().point_size = 1\n",
    "# vis.run()"
   ]
  },
  {
   "cell_type": "code",
   "execution_count": 77,
   "metadata": {},
   "outputs": [],
   "source": [
    "# ctr = vis.get_view_control()\n",
    "# print(\"Field of view (before changing) %.2f\" % ctr.get_field_of_view())\n",
    "# ctr.change_field_of_view(step=0.)\n",
    "# vis3d = o3d.visualization.Visualizer()\n",
    "# vis3d.create_window()\n",
    "# vis3d.add_geometry(ocd_list_0 + ocd_list_1 + edges + edges1 + edges2)\n",
    "# vis3d.run()\n",
    "# # vis.draw_geometries(ocd_list_0 + ocd_list_1 + edges)\n",
    "# # draw(ocd_list_0)\n",
    "# # draw(ocd_list_0 + ocd_list_1 + edges)\n",
    "# # vis.show()s"
   ]
  },
  {
   "cell_type": "code",
   "execution_count": null,
   "metadata": {},
   "outputs": [],
   "source": []
  }
 ],
 "metadata": {
  "kernelspec": {
   "display_name": "venv_torch_19",
   "language": "python",
   "name": "python3"
  },
  "language_info": {
   "codemirror_mode": {
    "name": "ipython",
    "version": 3
   },
   "file_extension": ".py",
   "mimetype": "text/x-python",
   "name": "python",
   "nbconvert_exporter": "python",
   "pygments_lexer": "ipython3",
   "version": "3.8.10"
  }
 },
 "nbformat": 4,
 "nbformat_minor": 2
}
