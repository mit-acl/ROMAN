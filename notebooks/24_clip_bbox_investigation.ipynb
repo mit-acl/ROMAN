{
 "cells": [
  {
   "cell_type": "code",
   "execution_count": null,
   "metadata": {},
   "outputs": [],
   "source": [
    "import clip\n",
    "import torch\n",
    "from PIL import Image\n",
    "import matplotlib.pyplot as plt\n",
    "import os\n",
    "import numpy as np\n",
    "import cv2 as cv\n",
    "import yaml\n",
    "\n",
    "from segment_track.fastsam_wrapper import FastSAMWrapper, mask_bounding_box\n",
    "\n",
    "from robot_utils.robot_data import ImgData, PoseData"
   ]
  },
  {
   "cell_type": "code",
   "execution_count": null,
   "metadata": {},
   "outputs": [],
   "source": [
    "device = 'cuda'\n",
    "FASTSAM_WEIGHTS = '/home/lucas/Workspace/fastsam3d/FastSAM/weights/FastSAM-x.pt'"
   ]
  },
  {
   "cell_type": "code",
   "execution_count": null,
   "metadata": {},
   "outputs": [],
   "source": [
    "fastsam = FastSAMWrapper(\n",
    "    weights=FASTSAM_WEIGHTS,\n",
    "    device=device,\n",
    ")\n",
    "fastsam.setup_filtering(\n",
    "    clip_embedding=True,\n",
    "    clip_model='ViT-B/32',\n",
    ")"
   ]
  },
  {
   "cell_type": "code",
   "execution_count": null,
   "metadata": {},
   "outputs": [],
   "source": [
    "# img_data = ImgData.from_bag(\n",
    "#     path=\"/home/lucas/Downloads/runA.bag\",\n",
    "#     topic=\"/RR08/l515/color/image_raw/compressed\",\n",
    "#     compressed=True\n",
    "# )\n",
    "# pose_data = PoseData.from_bag(\n",
    "#     path=\"/home/lucas/Downloads/runA.bag\",\n",
    "#     topic=\"/RR08/world\"\n",
    "# )"
   ]
  },
  {
   "cell_type": "code",
   "execution_count": null,
   "metadata": {},
   "outputs": [],
   "source": [
    "# img = img_data.img(img_data.t0)\n",
    "# img_data.show(img_data.t0)"
   ]
  },
  {
   "cell_type": "code",
   "execution_count": null,
   "metadata": {},
   "outputs": [],
   "source": [
    "# t = img_data.t0 + 1\n",
    "# img_org = img_data.img(t)\n",
    "# observations = fastsam.run(t, pose_data.T_WB(t), img_data.img(t))"
   ]
  },
  {
   "cell_type": "code",
   "execution_count": null,
   "metadata": {},
   "outputs": [],
   "source": [
    "# img_data.show(t)"
   ]
  },
  {
   "cell_type": "code",
   "execution_count": null,
   "metadata": {},
   "outputs": [],
   "source": [
    "# print(len(observations))"
   ]
  },
  {
   "cell_type": "markdown",
   "metadata": {},
   "source": [
    "### Inspect one of the created observations ###"
   ]
  },
  {
   "cell_type": "code",
   "execution_count": null,
   "metadata": {},
   "outputs": [],
   "source": [
    "def inspect_obs(img, observations, obs_idx):\n",
    "    # mask_downsampled =  observations[obs_idx].mask_downsampled\n",
    "    mask = observations[obs_idx].mask.astype('uint8')\n",
    "    fig, axes = plt.subplots(1,2)\n",
    "    img = cv.bitwise_and(img, img, mask = mask)\n",
    "    img = cv.cvtColor(img, cv.COLOR_BGR2RGB)\n",
    "    axes[0].imshow(img)\n",
    "    min_col, min_row, max_col, max_row = mask_bounding_box(mask)\n",
    "    img_bbox = img[min_row:max_row, min_col:max_col]\n",
    "    axes[1].imshow(img_bbox)"
   ]
  },
  {
   "cell_type": "code",
   "execution_count": null,
   "metadata": {},
   "outputs": [],
   "source": [
    "# inspect_obs(img_org, observations, 0)"
   ]
  },
  {
   "cell_type": "code",
   "execution_count": null,
   "metadata": {},
   "outputs": [],
   "source": [
    "# cosine_similarity = np.zeros((len(observations), len(observations)))\n",
    "# for i in range(len(observations)):\n",
    "#     for j in range(len(observations)):\n",
    "#         embedding_1 = observations[i].clip_embedding\n",
    "#         embedding_2 = observations[j].clip_embedding\n",
    "#         cosine_similarity[i, j] = np.dot(embedding_1, embedding_2)/(np.linalg.norm(embedding_1)*np.linalg.norm(embedding_2))"
   ]
  },
  {
   "cell_type": "code",
   "execution_count": null,
   "metadata": {},
   "outputs": [],
   "source": [
    "# plt.close()\n",
    "# plt.imshow(cosine_similarity, vmin=cosine_similarity.min(), vmax=cosine_similarity.max(), interpolation='nearest', origin='lower')\n",
    "# plt.colorbar()\n",
    "# plt.show()"
   ]
  },
  {
   "cell_type": "markdown",
   "metadata": {},
   "source": [
    "### Inspect segments with high similarity scores ###"
   ]
  },
  {
   "cell_type": "code",
   "execution_count": null,
   "metadata": {},
   "outputs": [],
   "source": [
    "# inspect_obs(img_org, observations, 28)"
   ]
  },
  {
   "cell_type": "code",
   "execution_count": null,
   "metadata": {},
   "outputs": [],
   "source": [
    "# inspect_obs(img_org, observations, 29)"
   ]
  },
  {
   "cell_type": "markdown",
   "metadata": {},
   "source": [
    "### Investigate Different Views of Same Objects ###"
   ]
  },
  {
   "cell_type": "code",
   "execution_count": null,
   "metadata": {},
   "outputs": [],
   "source": [
    "### Pick out the cones.\n",
    "# inspect_obs(img_org, observations, 7)"
   ]
  },
  {
   "cell_type": "code",
   "execution_count": null,
   "metadata": {},
   "outputs": [],
   "source": [
    "# cone_embedding = observations[7].clip_embedding"
   ]
  },
  {
   "cell_type": "code",
   "execution_count": null,
   "metadata": {},
   "outputs": [],
   "source": [
    "# t = img_data.t0 + 5\n",
    "# img_next = img_data.img(t)\n",
    "# observations_next = fastsam.run(t, pose_data.T_WB(t), img_data.img(t))"
   ]
  },
  {
   "cell_type": "code",
   "execution_count": null,
   "metadata": {},
   "outputs": [],
   "source": [
    "# img_data.show(t)"
   ]
  },
  {
   "cell_type": "code",
   "execution_count": null,
   "metadata": {},
   "outputs": [],
   "source": [
    "# inspect_obs(img_next, observations_next, 11)"
   ]
  },
  {
   "cell_type": "code",
   "execution_count": null,
   "metadata": {},
   "outputs": [],
   "source": [
    "# idx_diff_cone = 8 ### Index of the left cone\n",
    "# idx_same_cone = 11 ### Index of the right cone"
   ]
  },
  {
   "cell_type": "code",
   "execution_count": null,
   "metadata": {},
   "outputs": [],
   "source": [
    "# cone_embeddings = [cone_embedding, observations_next[idx_diff_cone].clip_embedding, observations_next[idx_same_cone].clip_embedding]\n",
    "# M = np.zeros((len(cone_embeddings), len(cone_embeddings)))\n",
    "# for i in range(len(cone_embeddings)):\n",
    "#     for j in range(len(cone_embeddings)):\n",
    "#         M[i, j] = np.dot(cone_embeddings[i], cone_embeddings[j])/(np.linalg.norm(cone_embeddings[i])*np.linalg.norm(cone_embeddings[j]))\n",
    "    "
   ]
  },
  {
   "cell_type": "code",
   "execution_count": null,
   "metadata": {},
   "outputs": [],
   "source": [
    "# plt.close()\n",
    "# plt.imshow(M, vmin=M.min(), vmax=M.max(), interpolation='nearest', origin='lower')\n",
    "# plt.colorbar()\n",
    "# plt.show()"
   ]
  }
 ],
 "metadata": {
  "kernelspec": {
   "display_name": "equiv_reg_env",
   "language": "python",
   "name": "python3"
  },
  "language_info": {
   "codemirror_mode": {
    "name": "ipython",
    "version": 3
   },
   "file_extension": ".py",
   "mimetype": "text/x-python",
   "name": "python",
   "nbconvert_exporter": "python",
   "pygments_lexer": "ipython3",
   "version": "3.8.10"
  }
 },
 "nbformat": 4,
 "nbformat_minor": 2
}
