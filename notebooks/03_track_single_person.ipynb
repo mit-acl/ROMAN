{
 "cells": [
  {
   "cell_type": "code",
   "execution_count": 1,
   "metadata": {},
   "outputs": [],
   "source": [
    "import numpy as np\n",
    "import matplotlib.pyplot as plt\n",
    "from yolov7_package import Yolov7Detector\n",
    "import matplotlib.patches as patches\n",
    "\n",
    "from robot_utils.robot_data.img_data import ImgData\n",
    "from robot_utils.robot_data.pose_data import PoseData\n",
    "from robot_utils.transform import transform\n",
    "\n",
    "from segment_track.observation import Observation\n",
    "from segment_track.segment import Segment\n",
    "from segment_track.tracker import Tracker"
   ]
  },
  {
   "cell_type": "code",
   "execution_count": 2,
   "metadata": {},
   "outputs": [],
   "source": [
    "bag = \"/home/masonbp/data/motlee_jan_2024/00/RR08.bag\"\n",
    "img_data = ImgData(\n",
    "    data_file=bag,\n",
    "    file_type='bag',\n",
    "    topic=\"/RR08/d455/color/image_raw/compressed\",\n",
    "    time_tol=.05,\n",
    ")\n",
    "pose_data = PoseData(\n",
    "    data_file=bag,\n",
    "    file_type='bag',\n",
    "    topic=\"/RR08/world\",\n",
    "    time_tol=.05,\n",
    "    interp=True\n",
    ")\n",
    "t0 = np.max([img_data.t0, pose_data.t0])\n",
    "img_data.set_t0(img_data.t0 - t0)\n",
    "pose_data.set_t0(pose_data.t0 - t0)"
   ]
  },
  {
   "cell_type": "code",
   "execution_count": 3,
   "metadata": {},
   "outputs": [
    {
     "name": "stderr",
     "output_type": "stream",
     "text": [
      "/home/masonbp/.envs/motlee/lib/python3.8/site-packages/torch/cuda/__init__.py:138: UserWarning: CUDA initialization: Unexpected error from cudaGetDeviceCount(). Did you run some cuda functions before calling NumCudaDevices() that might have already set an error? Error 804: forward compatibility was attempted on non supported HW (Triggered internally at ../c10/cuda/CUDAFunctions.cpp:108.)\n",
      "  return torch._C._cuda_getDeviceCount() > 0\n"
     ]
    },
    {
     "name": "stdout",
     "output_type": "stream",
     "text": [
      "Fusing layers... \n"
     ]
    }
   ],
   "source": [
    "T_BC = np.array([\n",
    "    - 0.0075156724929106855, 0.052520932013504995, 0.9985915413057593, 0.2101108603826516, - -0.999948500695071, -0.00641591694631477, 0.007863330555028802, \n",
    "    -0.012497043173790775, - 0.00681986984179056, -0.9985992127526291, 0.05247000729150186, -0.0018691769405706252, - 0.0, 0.0, 0.0, 1.0\n",
    "]).reshape((4, 4))\n",
    "\n",
    "T_BC = np.array([0.031700555562911625, -0.03613229685936231, -0.9988440978954973, -0.3474637078784243, 0.9994936165740449, \n",
    "                 0.003899694308407531, 0.03158010152037666, -0.006910240015390966, 0.0027541250405664908, -0.9993394065621388, 0.03623762253919305, -0.11367298866636036, 0.0, 0.0, 0.0, 1.0\n",
    "]).reshape((4, 4))\n",
    "pose_data.T_postmultiply = T_BC\n",
    "yolov7_det = Yolov7Detector(traced=False, conf_thres=.6)\n",
    "img_data.extract_params(\"/RR08/d455/color/camera_info\")\n",
    "cam_params = img_data.camera_params\n"
   ]
  },
  {
   "cell_type": "code",
   "execution_count": 4,
   "metadata": {},
   "outputs": [],
   "source": [
    "def detect_person(t, pose, img):\n",
    "    classes, boxes, scores = yolov7_det.detect(img)\n",
    "    person_boxes = []\n",
    "    for i, cl in enumerate(classes[0]):\n",
    "        if yolov7_det.names[cl] == 'person':\n",
    "            person_boxes.append(boxes[0][i])\n",
    "    \n",
    "    observations = []\n",
    "    for box in person_boxes:\n",
    "        mask = np.zeros(img.shape[:2]).astype(np.int8)\n",
    "        x0, y0, x1, y1 = np.array(box).astype(np.int64).reshape(-1).tolist()\n",
    "        x0 = max(x0, 0)\n",
    "        y0 = max(y0, 0)\n",
    "        x1 = min(x1, mask.shape[1])\n",
    "        y1 = min(y1, mask.shape[0])\n",
    "        mask[y0:y1,x0:x1] = np.ones((y1-y0, x1-x0)).astype(np.int8)\n",
    "        pixel_center = np.array([(x1 - x0) / 2 + x0, (y1 - y0) / 2 + y0])\n",
    "        observations.append(Observation(t, pose, pixel_center, x1-x0, y1-y0, mask))\n",
    "    return observations"
   ]
  },
  {
   "cell_type": "code",
   "execution_count": 5,
   "metadata": {},
   "outputs": [],
   "source": [
    "# from segment_track.global_nearest_neighbor import global_nearest_neighbor\n",
    "# def update(self, t: float, observations: list):\n",
    "        \n",
    "#     # associate observations with segments\n",
    "#     associated_pairs = global_nearest_neighbor(\n",
    "#         self.segments + self.segment_nursery, observations, self.mask_similarity, self.min_iou\n",
    "#     )\n",
    "#     print(associated_pairs)\n",
    "#     print(len(self.segments))\n",
    "#     print(len(self.segment_nursery))\n",
    "#     print(len(observations))\n",
    "\n",
    "#     # separate segments associated with nursery and normal segments\n",
    "#     pairs_existing = [[seg_idx, obs_idx] for seg_idx, obs_idx \\\n",
    "#                             in associated_pairs if seg_idx < len(self.segments)]\n",
    "#     pairs_nursery = [[seg_idx - len(self.segments), obs_idx] for seg_idx, obs_idx \\\n",
    "#                             in associated_pairs if seg_idx >= len(self.segments)]\n",
    "\n",
    "#     # update segments with associated observations\n",
    "#     for seg_idx, obs_idx in pairs_existing:\n",
    "#         self.segments[seg_idx].update(observations[obs_idx])\n",
    "#     for seg_idx, obs_idx in pairs_nursery:\n",
    "#         self.segment_nursery[seg_idx].update(observations[obs_idx])\n",
    "\n",
    "#     # handle moving existing segments to graveyard\n",
    "#     to_rm = [seg for seg in self.segments \\\n",
    "#                 if t - seg.last_seen > self.max_t_no_sightings]\n",
    "#     for seg in to_rm:\n",
    "#         self.segment_graveyard.append(seg)\n",
    "#         self.segments.remove(seg)\n",
    "\n",
    "#     to_rm = [seg for seg in self.segment_nursery \\\n",
    "#                 if t - seg.last_seen > self.max_t_no_sightings]\n",
    "#     for seg in to_rm:\n",
    "#         self.segment_nursery.remove(seg)\n",
    "\n",
    "#     # handle moving segments from nursery to normal segments\n",
    "#     to_upgrade = [seg for seg in self.segment_nursery \\\n",
    "#                     if seg.num_sightings >= self.min_sightings]\n",
    "#     for seg in to_upgrade:\n",
    "#         self.segment_nursery.remove(seg)\n",
    "#         self.segments.append(seg)\n",
    "\n",
    "#     # add new segments\n",
    "#     associated_obs = [obs_idx for _, obs_idx in associated_pairs]\n",
    "#     new_observations = [obs for idx, obs in enumerate(observations) \\\n",
    "#                         if idx not in associated_obs]\n",
    "#     for obs in new_observations:\n",
    "#         self.segment_nursery.append(\n",
    "#             Segment(obs, self.camera_params, self.pixel_std_dev, self.id_counter))\n",
    "#         self.id_counter += 1\n",
    "        \n",
    "#     return\n",
    "\n",
    "# Tracker.update = update\n",
    "# tracker = Tracker(\n",
    "#     camera_params=cam_params,\n",
    "#     pixel_std_dev=10.0,\n",
    "#     min_iou=0.5,\n",
    "#     min_sightings=3,\n",
    "#     max_t_no_sightings=0.5\n",
    "# )"
   ]
  },
  {
   "cell_type": "code",
   "execution_count": 6,
   "metadata": {},
   "outputs": [
    {
     "name": "stderr",
     "output_type": "stream",
     "text": [
      "/home/masonbp/.envs/motlee/lib/python3.8/site-packages/torch/functional.py:504: UserWarning: torch.meshgrid: in an upcoming release, it will be required to pass the indexing argument. (Triggered internally at ../aten/src/ATen/native/TensorShape.cpp:3526.)\n",
      "  return _VF.meshgrid(tensors, **kwargs)  # type: ignore[attr-defined]\n"
     ]
    }
   ],
   "source": [
    "# for t in np.arange(187, 191, .1):\n",
    "all_observations = []\n",
    "for t in np.arange(187, 191, 1/15):\n",
    "    img = img_data.img(t)\n",
    "    try:\n",
    "        pose = pose_data.T_WB(t)\n",
    "    except:\n",
    "        continue\n",
    "    observations = detect_person(t, pose, img)\n",
    "    all_observations.append(observations)\n",
    "        \n",
    "# print(segment.observations)\n",
    "# print(len(segment.observations))\n"
   ]
  },
  {
   "cell_type": "code",
   "execution_count": 19,
   "metadata": {},
   "outputs": [],
   "source": [
    "tracker = Tracker(\n",
    "    camera_params=cam_params,\n",
    "    pixel_std_dev=10.0,\n",
    "    min_iou=0.25,\n",
    "    min_sightings=2,\n",
    "    max_t_no_sightings=0.5\n",
    ")\n",
    "\n",
    "for t, observations in enumerate(all_observations):\n",
    "    tracker.update(t, observations)\n"
   ]
  },
  {
   "cell_type": "code",
   "execution_count": 20,
   "metadata": {},
   "outputs": [
    {
     "name": "stdout",
     "output_type": "stream",
     "text": [
      "1\n",
      "0\n",
      "0\n"
     ]
    }
   ],
   "source": [
    "print(len(tracker.segments))\n",
    "print(len(tracker.segment_nursery))\n",
    "print(len(tracker.segment_graveyard))"
   ]
  },
  {
   "cell_type": "code",
   "execution_count": 21,
   "metadata": {},
   "outputs": [
    {
     "data": {
      "image/png": "[encoded data removed]",
      "text/plain": [
       "<Figure size 640x480 with 1 Axes>"
      ]
     },
     "metadata": {},
     "output_type": "display_data"
    }
   ],
   "source": [
    "obs_lists = [seg.observations for seg in tracker.segments + tracker.segment_graveyard]\n",
    "all_obs = [obs for obs_list in obs_lists for obs in obs_list]\n",
    "\n",
    "plt.plot(0, -4, 'ro')\n",
    "for obs in all_obs:\n",
    "    pose_data.plot2d(t=obs.time, pose=True, axis_len=.5)\n",
    "    \n",
    "for obs in all_obs[:]:\n",
    "    det_vec_c = np.linalg.inv(cam_params.K) @ np.array([obs.pixel[0], obs.pixel[1], 1]).reshape((3,1))\n",
    "    det_vec = obs.pose[:3,:3] @ det_vec_c\n",
    "    det_vec = det_vec[:2] / np.linalg.norm(det_vec[:2])\n",
    "    det_vec *= 10\n",
    "    plt.plot([obs.pose[0,3], obs.pose[0,3] + det_vec.item(0)], [obs.pose[1,3], obs.pose[1,3] + det_vec.item(1)], 'orange')\n",
    "\n",
    "plt.gca().set_aspect('equal', adjustable='box')"
   ]
  },
  {
   "cell_type": "code",
   "execution_count": 22,
   "metadata": {},
   "outputs": [
    {
     "data": {
      "text/plain": [
       "array([     2.6877,     -6.3587,      1.2624])"
      ]
     },
     "execution_count": 22,
     "metadata": {},
     "output_type": "execute_result"
    }
   ],
   "source": [
    "tracker.segments[0].reconstruction3D()"
   ]
  },
  {
   "cell_type": "code",
   "execution_count": null,
   "metadata": {},
   "outputs": [
    {
     "data": {
      "image/png": "[encoded data removed]",
      "text/plain": [
       "<Figure size 640x480 with 1 Axes>"
      ]
     },
     "metadata": {},
     "output_type": "display_data"
    }
   ],
   "source": [
    "plt.plot(0, -4, 'ro')\n",
    "for obs in segment.observations:\n",
    "    pose_data.plot2d(t=obs.time, pose=True, axis_len=.5)\n",
    "    \n",
    "for obs in segment.observations[:]:\n",
    "    det_vec_c = np.linalg.inv(cam_params.K) @ np.array([obs.pixel[0], obs.pixel[1], 1]).reshape((3,1))\n",
    "    det_vec = obs.pose[:3,:3] @ det_vec_c\n",
    "    det_vec = det_vec[:2] / np.linalg.norm(det_vec[:2])\n",
    "    det_vec *= 10\n",
    "    plt.plot([obs.pose[0,3], obs.pose[0,3] + det_vec.item(0)], [obs.pose[1,3], obs.pose[1,3] + det_vec.item(1)], 'orange')\n",
    "    \n",
    "est3d = segment.reconstruction3D()\n",
    "plt.plot(est3d[0], est3d[1], 'go')\n",
    "plt.gca().set_aspect('equal', adjustable='box')"
   ]
  },
  {
   "cell_type": "code",
   "execution_count": null,
   "metadata": {},
   "outputs": [],
   "source": [
    "import gtsam\n",
    "points = []\n",
    "for obs in segment.observations:\n",
    "    points.append(gtsam.Point2(obs.pixel))\n",
    "gtsam.Point2Vector(points)\n",
    "pixels_point_vec = gtsam.Point2Vector([gtsam.Point2(obs.pixel) for obs in segment.observations])"
   ]
  },
  {
   "cell_type": "code",
   "execution_count": null,
   "metadata": {},
   "outputs": [
    {
     "data": {
      "text/plain": [
       "array([     2.1956,     -5.8088,      1.1388])"
      ]
     },
     "execution_count": 10,
     "metadata": {},
     "output_type": "execute_result"
    }
   ],
   "source": [
    "segment.reconstruction3D()\n"
   ]
  }
 ],
 "metadata": {
  "kernelspec": {
   "display_name": "motlee",
   "language": "python",
   "name": "python3"
  },
  "language_info": {
   "codemirror_mode": {
    "name": "ipython",
    "version": 3
   },
   "file_extension": ".py",
   "mimetype": "text/x-python",
   "name": "python",
   "nbconvert_exporter": "python",
   "pygments_lexer": "ipython3",
   "version": "3.8.10"
  }
 },
 "nbformat": 4,
 "nbformat_minor": 2
}
